{
 "cells": [
  {
   "cell_type": "markdown",
   "metadata": {},
   "source": [
    "# Joy Ride - Part 2: Circular Track\n",
    "\n",
    "In this part, you'll write code to steer a car around a circular track. In doing so you'll explore the relationship between steering angle and turning radius. To get started:\n",
    "\n",
    "1. Run the cell below this one by pressing `Ctrl + Enter`\n",
    "2. Click the button that says \"Launch Car Simulator\". A new tab should open in your browser.\n",
    "3. Arrange your tabs as you did in the previous part, so you can see both your notebook and your simulator.\n",
    "4. Run the cell (`Ctrl + Enter`) marked \"CODE CELL\". The car in the simulator should start moving.\n",
    "5. Press the **Reset** button in the simulator and then modify the code in the code cell. Try to have the car drive all the way around the track."
   ]
  },
  {
   "cell_type": "code",
   "execution_count": 1,
   "metadata": {},
   "outputs": [
    {
     "data": {
      "text/html": [
       "<button id=\"launcher\">Launch Car Simulator</button>\n",
       "<script src=\"setupLauncher.js\"></script>"
      ],
      "text/plain": [
       "<IPython.core.display.HTML object>"
      ]
     },
     "metadata": {},
     "output_type": "display_data"
    }
   ],
   "source": [
    "%%HTML\n",
    "<button id=\"launcher\">Launch Car Simulator</button>\n",
    "<script src=\"setupLauncher.js\"></script>"
   ]
  },
  {
   "cell_type": "code",
   "execution_count": 3,
   "metadata": {},
   "outputs": [
    {
     "data": {
      "application/javascript": [
       "window.simulatorWindow.postMessage(\"steer:0.2\", \"*\");"
      ]
     },
     "metadata": {},
     "output_type": "display_data"
    },
    {
     "data": {
      "application/javascript": [
       "window.simulatorWindow.postMessage(\"throttle:0.1\", \"*\");"
      ]
     },
     "metadata": {},
     "output_type": "display_data"
    }
   ],
   "source": [
    "# CODE CELL\n",
    "#\n",
    "# This is the code you should edit and run to control the car.\n",
    "\n",
    "from Car import Car\n",
    "import time\n",
    "\n",
    "# TODO: Make changes to the steering and gas values and see how they affect the car's motion\n",
    "def circle(car):\n",
    "    car.steer(5)\n",
    "    car.gas(0.1)\n",
    "    \n",
    "car = Car()\n",
    "\n",
    "circle(car)"
   ]
  },
  {
   "cell_type": "code",
   "execution_count": null,
   "metadata": {},
   "outputs": [],
   "source": []
  }
 ],
 "metadata": {
  "kernelspec": {
   "display_name": "Python 3",
   "language": "python",
   "name": "python3"
  },
  "language_info": {
   "codemirror_mode": {
    "name": "ipython",
    "version": 3
   },
   "file_extension": ".py",
   "mimetype": "text/x-python",
   "name": "python",
   "nbconvert_exporter": "python",
   "pygments_lexer": "ipython3",
   "version": "3.6.3"
  }
 },
 "nbformat": 4,
 "nbformat_minor": 2
}
