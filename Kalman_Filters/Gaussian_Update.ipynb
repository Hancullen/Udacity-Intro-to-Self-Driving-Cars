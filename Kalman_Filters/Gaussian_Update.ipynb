{
 "cells": [
  {
   "cell_type": "markdown",
   "metadata": {},
   "source": [
    "### Kalman Filters"
   ]
  },
  {
   "cell_type": "markdown",
   "metadata": {},
   "source": [
    "1. Maximize Gaussian"
   ]
  },
  {
   "cell_type": "code",
   "execution_count": 7,
   "metadata": {},
   "outputs": [
    {
     "name": "stdout",
     "output_type": "stream",
     "text": [
      "0.12098536225957168\n",
      "0.19947114020071635\n"
     ]
    }
   ],
   "source": [
    "#For this problem, you aren't writing any code.\n",
    "#Instead, please just change the last argument \n",
    "#in f() to maximize the output.\n",
    "\n",
    "from math import *\n",
    "\n",
    "def f(mu, sigma2, x):\n",
    "    return 1/sqrt(2.*pi*sigma2) * exp(-.5*(x-mu)**2 / sigma2)\n",
    "\n",
    "print(f(10.,4.,8.)) #Change the 8. to something else!\n",
    "print(f(10.,4.,10.)) #then x = mu \n"
   ]
  },
  {
   "cell_type": "markdown",
   "metadata": {},
   "source": [
    "2. Mean and variances updated"
   ]
  },
  {
   "cell_type": "code",
   "execution_count": 5,
   "metadata": {},
   "outputs": [
    {
     "name": "stdout",
     "output_type": "stream",
     "text": [
      "[12.4, 1.6]\n"
     ]
    }
   ],
   "source": [
    "# Write a program to update your mean and variance\n",
    "# when given the mean and variance of your belief\n",
    "# and the mean and variance of your measurement.\n",
    "# This program will update the parameters of your\n",
    "# belief function.\n",
    "\n",
    "\n",
    "##var1 and var2 are squares already\n",
    "\n",
    "def update(mean1, var1, mean2, var2):\n",
    "    new_mean = (var2 * mean1 + var1 * mean2 )/(var1 + var2)\n",
    "    new_var = 1/(1/var1+ 1/var2)\n",
    "    return [new_mean, new_var]\n",
    "\n",
    "print(update(10.,8.,13., 2.))"
   ]
  },
  {
   "cell_type": "markdown",
   "metadata": {},
   "source": [
    "3. Prediction Function - Gaussian motion"
   ]
  },
  {
   "cell_type": "code",
   "execution_count": 6,
   "metadata": {},
   "outputs": [],
   "source": [
    "# Addition\n",
    "\n",
    "def predict(mean1, var1, mean2, var2):\n",
    "    new_mean = mean1 + mean2\n",
    "    new_var = var1 + var2\n",
    "    return [new_mean, new_var]"
   ]
  },
  {
   "cell_type": "markdown",
   "metadata": {},
   "source": [
    "4. Kalman filter 1D"
   ]
  },
  {
   "cell_type": "code",
   "execution_count": 12,
   "metadata": {},
   "outputs": [
    {
     "name": "stdout",
     "output_type": "stream",
     "text": [
      "update:  [4.998000799680128, 3.9984006397441023]\n",
      "prediction:  [5.998000799680128, 5.998400639744102]\n",
      "update:  [5.999200191953932, 2.399744061425258]\n",
      "prediction:  [6.999200191953932, 4.399744061425258]\n",
      "update:  [6.999619127420922, 2.0951800575117594]\n",
      "prediction:  [8.999619127420921, 4.09518005751176]\n",
      "update:  [8.999811802788143, 2.0235152416216957]\n",
      "prediction:  [9.999811802788143, 4.023515241621696]\n",
      "update:  [9.999906177177365, 2.0058615808441944]\n",
      "prediction:  [10.999906177177365, 4.005861580844194]\n",
      "[10.999906177177365, 4.005861580844194]\n"
     ]
    }
   ],
   "source": [
    "#first update the mean and variance of measurement[1]=5, got 4.999, and then move 1.\n",
    "\n",
    "measurements = [5., 6., 7., 9., 10.]\n",
    "motion = [1., 1., 2., 1., 1.]\n",
    "measurement_sig = 4. #uncertainty constant\n",
    "motion_sig = 2. #uncertainty motion constant\n",
    "mu = 0. #initial mean\n",
    "sig = 10000. # initial huge uncertainty(sigma) \n",
    "\n",
    "for i in range(len(measurements)):\n",
    "    mu, sig = update(mu, sig, measurements[i], measurement_sig)  \n",
    "    print('update: ', [mu, sig])\n",
    "    \n",
    "    mu, sig = predict(mu, sig, motion[i], motion_sig)\n",
    "    print('prediction: ', [mu, sig])\n",
    "    \n",
    "    \n",
    "#Please print out ONLY the final values of the mean\n",
    "#and the variance in a list [mu, sig]. \n",
    "print([mu, sig])"
   ]
  },
  {
   "cell_type": "code",
   "execution_count": null,
   "metadata": {},
   "outputs": [],
   "source": []
  }
 ],
 "metadata": {
  "kernelspec": {
   "display_name": "Python 3",
   "language": "python",
   "name": "python3"
  },
  "language_info": {
   "codemirror_mode": {
    "name": "ipython",
    "version": 3
   },
   "file_extension": ".py",
   "mimetype": "text/x-python",
   "name": "python",
   "nbconvert_exporter": "python",
   "pygments_lexer": "ipython3",
   "version": "3.7.3"
  }
 },
 "nbformat": 4,
 "nbformat_minor": 2
}
