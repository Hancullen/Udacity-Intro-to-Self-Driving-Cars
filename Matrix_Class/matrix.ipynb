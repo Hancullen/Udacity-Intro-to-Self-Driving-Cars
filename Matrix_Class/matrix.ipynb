{
 "cells": [
  {
   "cell_type": "code",
   "execution_count": 2,
   "metadata": {},
   "outputs": [],
   "source": [
    "import math\n",
    "from math import sqrt\n",
    "import numbers"
   ]
  },
  {
   "cell_type": "code",
   "execution_count": 3,
   "metadata": {},
   "outputs": [],
   "source": [
    "def zeroes(height, width):\n",
    "        \"\"\"\n",
    "        Creates a matrix of zeroes.\n",
    "        \"\"\"\n",
    "        g = [[0.0 for _ in range(width)] for __ in range(height)]\n",
    "        return Matrix(g)\n",
    "\n",
    "def identity(n):\n",
    "        \"\"\"\n",
    "        Creates a (n x n) identity matrix.\n",
    "        \"\"\"\n",
    "        I = zeroes(n, n)\n",
    "        for i in range(n):\n",
    "            I.g[i][i] = 1.0\n",
    "            print(I.g[i][i])\n",
    "            \n",
    "        return I\n",
    "    \n",
    "def dot_product(vector_one, vector_two):\n",
    "    s = 0\n",
    "    for i in range(len(vector_one)):\n",
    "        s += vector_one[i]*vector_two[i]\n",
    "\n",
    "    return s"
   ]
  },
  {
   "cell_type": "code",
   "execution_count": 4,
   "metadata": {},
   "outputs": [
    {
     "data": {
      "text/plain": [
       "0.0  0.0  0.0  0.0 \n",
       "0.0  0.0  0.0  0.0 \n",
       "0.0  0.0  0.0  0.0 "
      ]
     },
     "execution_count": 4,
     "metadata": {},
     "output_type": "execute_result"
    }
   ],
   "source": [
    "zeroes(3,4)"
   ]
  },
  {
   "cell_type": "code",
   "execution_count": 5,
   "metadata": {},
   "outputs": [
    {
     "name": "stdout",
     "output_type": "stream",
     "text": [
      "1.0\n",
      "1.0\n",
      "1.0\n"
     ]
    },
    {
     "data": {
      "text/plain": [
       "1.0  0.0  0.0 \n",
       "0.0  1.0  0.0 \n",
       "0.0  0.0  1.0 "
      ]
     },
     "execution_count": 5,
     "metadata": {},
     "output_type": "execute_result"
    }
   ],
   "source": [
    "identity(3)"
   ]
  },
  {
   "cell_type": "code",
   "execution_count": 17,
   "metadata": {},
   "outputs": [],
   "source": [
    "class Matrix(object):\n",
    "\n",
    "    # Constructor\n",
    "    def __init__(self, grid):\n",
    "        self.g = grid\n",
    "        self.h = len(grid)\n",
    "        self.w = len(grid[0])\n",
    "\n",
    "    #\n",
    "    # Primary matrix math methods\n",
    "    #############################\n",
    " \n",
    "    def determinant(self):\n",
    "        \"\"\"\n",
    "        Calculates the determinant of a 1x1 or 2x2 matrix.\n",
    "        \"\"\"\n",
    "        if not self.is_square():\n",
    "            raise(ValueError, \"Cannot calculate determinant of non-square matrix.\")\n",
    "        if self.h > 2:\n",
    "            raise(NotImplementedError, \"Calculating determinant not implemented for matrices largerer than 2x2.\")\n",
    "        \n",
    "        # TODO - your code here\n",
    "        else:\n",
    "            if self.h < 2:\n",
    "                det = self.g[0][0]\n",
    "            if self.h == 2:\n",
    "                a = self.g[0][0]\n",
    "                b = self.g[0][1]\n",
    "                c = self.g[1][0]\n",
    "                d = self.g[1][1]\n",
    "                det = a*d - b*c\n",
    "                \n",
    "        return det\n",
    "\n",
    "    def trace(self):\n",
    "        \"\"\"\n",
    "        Calculates the trace of a matrix (sum of diagonal entries).\n",
    "        \"\"\"\n",
    "        if not self.is_square():\n",
    "            raise(ValueError, \"Cannot calculate the trace of a non-square matrix.\")\n",
    "\n",
    "        # TODO - your code here\n",
    "        s = 0\n",
    "        for i in range(self.h):\n",
    "            for j in range(self.w):\n",
    "                if i == j:\n",
    "                    s += self.g[i][j]\n",
    "        return s\n",
    "\n",
    "    def inverse(self):\n",
    "        \"\"\"\n",
    "        Calculates the inverse of a 1x1 or 2x2 Matrix.\n",
    "        \"\"\"\n",
    "        if not self.is_square():\n",
    "            raise(ValueError, \"Non-square Matrix does not have an inverse.\")\n",
    "        if self.h > 2:\n",
    "            raise(NotImplementedError, \"inversion not implemented for matrices larger than 2x2.\")\n",
    "\n",
    "        # TODO - your code here\n",
    "        else: \n",
    "            inv = []\n",
    "            inv_row = []\n",
    "            if self.h < 2:\n",
    "                inv_row.append(1/self.determinant())\n",
    "                inv.append(inv_row)\n",
    "            else:\n",
    "                if self.determinant() == 0:\n",
    "                    raise(ValueError, \"Non-invertable matrix\")\n",
    "                \n",
    "                else:\n",
    "                    a = self.g[0][0]\n",
    "                    b = self.g[0][1]\n",
    "                    c = self.g[1][0]\n",
    "                    d = self.g[1][1] \n",
    "                    inv = [[d, -b], [-c, a]]\n",
    "                    det = self.determinant()\n",
    "                    \n",
    "                    for i in range(len(inv)):\n",
    "                        for j in range(len(inv[0])):\n",
    "                            inv[i][j] *= 1/det\n",
    "\n",
    "        return Matrix(inv)\n",
    "\n",
    "    def T(self):\n",
    "        \"\"\"\n",
    "        Returns a transposed copy of this Matrix.\n",
    "        \"\"\"\n",
    "        # TODO - your code here\n",
    "        T = []\n",
    "        for col in range(self.w):\n",
    "            new_row = []\n",
    "            for row in range(self.h):\n",
    "                new_row.append(self.g[row][col])\n",
    "            T.append(new_row)\n",
    "        \n",
    "        return Matrix(T)\n",
    "        \n",
    "    \n",
    "    def is_square(self):\n",
    "        return self.h == self.w\n",
    "\n",
    "    #\n",
    "    # Begin Operator Overloading\n",
    "    ############################\n",
    "    def __getitem__(self,idx):\n",
    "        \"\"\"\n",
    "        Defines the behavior of using square brackets [] on instances\n",
    "        of this class.\n",
    "\n",
    "        Example:\n",
    "\n",
    "        > my_matrix = Matrix([ [1, 2], [3, 4] ])\n",
    "        > my_matrix[0]\n",
    "          [1, 2]\n",
    "\n",
    "        > my_matrix[0][0]\n",
    "          1\n",
    "        \"\"\"\n",
    "        return self.g[idx]\n",
    "\n",
    "    def __repr__(self):\n",
    "        \"\"\"\n",
    "        Defines the behavior of calling print on an instance of this class.\n",
    "        \"\"\"\n",
    "        s = \"\"\n",
    "        for row in self.g:\n",
    "            s += \" \".join([\"{} \".format(x) for x in row])\n",
    "            s += \"\\n\"\n",
    "        return s\n",
    "\n",
    "    def __add__(self,other):\n",
    "        \"\"\"\n",
    "        Defines the behavior of the + operator\n",
    "        \"\"\"\n",
    "        if self.h != other.h or self.w != other.w:\n",
    "            raise(ValueError, \"Matrices can only be added if the dimensions are the same\") \n",
    "        #   \n",
    "        # TODO - your code here\n",
    "        #\n",
    "        added = []\n",
    "        for i in range(self.h):\n",
    "            row = []\n",
    "            for j in range(self.w):\n",
    "                row.append(self.g[i][j] + other.g[i][j])\n",
    "            added.append(row)\n",
    "        \n",
    "        return Matrix(added)\n",
    "\n",
    "    def __neg__(self):\n",
    "        \"\"\"\n",
    "        Defines the behavior of - operator (NOT subtraction)\n",
    "\n",
    "        Example:\n",
    "\n",
    "        > my_matrix = Matrix([ [1, 2], [3, 4] ])\n",
    "        > negative  = -my_matrix\n",
    "        > print(negative)\n",
    "          -1.0  -2.0\n",
    "          -3.0  -4.0\n",
    "        \"\"\"\n",
    "        #   \n",
    "        # TODO - your code here\n",
    "        #\n",
    "        neg = []\n",
    "        for i in range(self.h):\n",
    "            row = []\n",
    "            for j in range(self.w):\n",
    "                row.append(-self.g[i][j])\n",
    "            neg.append(row)\n",
    "        \n",
    "        return Matrix(neg)\n",
    "                \n",
    "\n",
    "    def __sub__(self, other):\n",
    "        \"\"\"\n",
    "        Defines the behavior of - operator (as subtraction)\n",
    "        \"\"\"\n",
    "        #   \n",
    "        # TODO - your code here\n",
    "        #\n",
    "        \"\"\"\n",
    "        Defines the behavior of the - operator\n",
    "        \"\"\"\n",
    "        if self.h != other.h or self.w != other.w:\n",
    "            raise(ValueError, \"Matrices can only be subtracted if the dimensions are the same\") \n",
    "        #   \n",
    "        # TODO - your code here\n",
    "        #\n",
    "        sub = []\n",
    "        for i in range(self.h):\n",
    "            row = []\n",
    "            for j in range(self.w):\n",
    "                row.append(self.g[i][j] - other.g[i][j])\n",
    "            sub.append(row)\n",
    "        \n",
    "        return Matrix(sub)\n",
    "\n",
    "    def __mul__(self, other):\n",
    "        \"\"\"\n",
    "        Defines the behavior of * operator (matrix multiplication)\n",
    "        \"\"\"\n",
    "        #   \n",
    "        # TODO - your code here\n",
    "        #\n",
    "        \n",
    "        if self.w != other.h:\n",
    "            raise(ValueError, \"Matrices can only be multiplied if the width of A is equal to the height B\") \n",
    "        \n",
    "    \n",
    "        other = other.T()\n",
    "        mul = []\n",
    "        s = 0\n",
    "        \n",
    "        for i in self.g:\n",
    "            row = []\n",
    "            for j in other.g:\n",
    "                s = dot_product(i, j)\n",
    "                row.append(s)\n",
    "            mul.append(row)\n",
    "        \n",
    "        return Matrix(mul)     \n",
    "        \n",
    "\n",
    "    def __rmul__(self, other):\n",
    "        \"\"\"\n",
    "        Called when the thing on the left of the * is not a matrix.\n",
    "\n",
    "        Example:\n",
    "\n",
    "        > identity = Matrix([ [1,0], [0,1] ])\n",
    "        > doubled  = 2 * identity\n",
    "        > print(doubled)\n",
    "          2.0  0.0\n",
    "          0.0  2.0\n",
    "        \"\"\"\n",
    "        if isinstance(other, numbers.Number):\n",
    "            pass\n",
    "            #   \n",
    "            # TODO - your code here\n",
    "            #\n",
    "            for i in range(self.h):\n",
    "                for j in range(self.w):\n",
    "                    self.g[i][j] = other * self.g[i][j]\n",
    "        \n",
    "        return self \n",
    "            "
   ]
  },
  {
   "cell_type": "code",
   "execution_count": 18,
   "metadata": {},
   "outputs": [
    {
     "name": "stdout",
     "output_type": "stream",
     "text": [
      "4  5 \n",
      "7  1 \n",
      "\n",
      "-31\n",
      "6  7 \n",
      "8  2 \n",
      "\n"
     ]
    }
   ],
   "source": [
    "matrixA = Matrix([[4, 5], [7, 1]])\n",
    "detA = matrixA.determinant()\n",
    "print(matrixA)\n",
    "print(detA)\n",
    "\n",
    "matrixB = Matrix([[4, 5, 4], [7, 1, 1]])\n",
    "#trace = matrixB.trace()\n",
    "#print('trace:', trace)\n",
    "F = matrixA * matrixB\n",
    "C = Matrix([[2, 2], [1,1]])\n",
    "R = matrixA + C\n",
    "print(R)"
   ]
  },
  {
   "cell_type": "code",
   "execution_count": 19,
   "metadata": {},
   "outputs": [
    {
     "data": {
      "text/plain": [
       "4 "
      ]
     },
     "execution_count": 19,
     "metadata": {},
     "output_type": "execute_result"
    }
   ],
   "source": [
    "C = Matrix([[2]])\n",
    "2*C"
   ]
  },
  {
   "cell_type": "code",
   "execution_count": 20,
   "metadata": {},
   "outputs": [
    {
     "data": {
      "text/plain": [
       "-0.03225806451612903  0.16129032258064516 \n",
       "0.22580645161290322  -0.12903225806451613 "
      ]
     },
     "execution_count": 20,
     "metadata": {},
     "output_type": "execute_result"
    }
   ],
   "source": [
    "matrixA.inverse()"
   ]
  },
  {
   "cell_type": "code",
   "execution_count": 21,
   "metadata": {},
   "outputs": [
    {
     "name": "stdout",
     "output_type": "stream",
     "text": [
      "51  25  17 \n",
      "35  36  22 \n",
      "\n"
     ]
    }
   ],
   "source": [
    "D = Matrix([[4, 5, 3], [7, 1, 1]])\n",
    "print(matrixA*D)"
   ]
  },
  {
   "cell_type": "code",
   "execution_count": 22,
   "metadata": {},
   "outputs": [],
   "source": [
    "E = Matrix([[2, 2, 1], [1, 1, 0]])\n"
   ]
  },
  {
   "cell_type": "code",
   "execution_count": 23,
   "metadata": {},
   "outputs": [
    {
     "name": "stdout",
     "output_type": "stream",
     "text": [
      "2  3  2 \n",
      "6  0  1 \n",
      "\n"
     ]
    }
   ],
   "source": [
    "print(D-E)"
   ]
  },
  {
   "cell_type": "code",
   "execution_count": 24,
   "metadata": {},
   "outputs": [
    {
     "name": "stdout",
     "output_type": "stream",
     "text": [
      "-4  -5  -3 \n",
      "-7  -1  -1 \n",
      "\n"
     ]
    }
   ],
   "source": [
    "print(-D)"
   ]
  },
  {
   "cell_type": "code",
   "execution_count": 25,
   "metadata": {},
   "outputs": [],
   "source": [
    "I2 = Matrix([\n",
    "        [1, 0],\n",
    "        [0, 1]\n",
    "        ])\n",
    "\n",
    "I2_neg = Matrix([\n",
    "        [-1, 0],\n",
    "        [0, -1]\n",
    "        ])\n",
    "\n"
   ]
  },
  {
   "cell_type": "code",
   "execution_count": 26,
   "metadata": {},
   "outputs": [
    {
     "name": "stdout",
     "output_type": "stream",
     "text": [
      "-1  0 \n",
      "0  -1 \n",
      "\n"
     ]
    }
   ],
   "source": [
    "print(-I2)"
   ]
  },
  {
   "cell_type": "code",
   "execution_count": 27,
   "metadata": {},
   "outputs": [
    {
     "name": "stdout",
     "output_type": "stream",
     "text": [
      "False\n"
     ]
    }
   ],
   "source": [
    "print(-I2 == I2_neg)"
   ]
  },
  {
   "cell_type": "code",
   "execution_count": null,
   "metadata": {},
   "outputs": [],
   "source": []
  },
  {
   "cell_type": "code",
   "execution_count": null,
   "metadata": {},
   "outputs": [],
   "source": []
  }
 ],
 "metadata": {
  "kernelspec": {
   "display_name": "Python 3",
   "language": "python",
   "name": "python3"
  },
  "language_info": {
   "codemirror_mode": {
    "name": "ipython",
    "version": 3
   },
   "file_extension": ".py",
   "mimetype": "text/x-python",
   "name": "python",
   "nbconvert_exporter": "python",
   "pygments_lexer": "ipython3",
   "version": "3.6.3"
  }
 },
 "nbformat": 4,
 "nbformat_minor": 2
}
